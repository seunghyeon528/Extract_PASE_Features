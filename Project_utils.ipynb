{
  "nbformat": 4,
  "nbformat_minor": 0,
  "metadata": {
    "colab": {
      "name": "Project_2021.ipynb",
      "provenance": [],
      "collapsed_sections": [],
      "mount_file_id": "1-Kf4Y84_CtHOG9JCxVXNecqVEbvbsFFf",
      "authorship_tag": "ABX9TyMLT5tIOBg5VhMzk36hWRiS",
      "include_colab_link": true
    },
    "kernelspec": {
      "name": "python3",
      "display_name": "Python 3"
    },
    "language_info": {
      "name": "python"
    },
    "accelerator": "GPU"
  },
  "cells": [
    {
      "cell_type": "markdown",
      "metadata": {
        "id": "view-in-github",
        "colab_type": "text"
      },
      "source": [
        "<a href=\"https://colab.research.google.com/github/seunghyeon528/Extract_PASE_Features/blob/main/Project_utils.ipynb\" target=\"_parent\"><img src=\"https://colab.research.google.com/assets/colab-badge.svg\" alt=\"Open In Colab\"/></a>"
      ]
    },
    {
      "cell_type": "code",
      "metadata": {
        "id": "WPoZFHnKRg2s"
      },
      "source": [
        "# import modules\n",
        "import torch\n",
        "import torchvision\n",
        "import torch.nn as nn\n",
        "import torch.nn.functional as F\n",
        "from torch.utils.data import Dataset\n",
        "from torchvision import models, transforms\n",
        "\n",
        "import matplotlib.pyplot as plt\n",
        "import random\n",
        "import time\n",
        "import os\n",
        "\n",
        "import numpy as np"
      ],
      "execution_count": null,
      "outputs": []
    },
    {
      "cell_type": "markdown",
      "metadata": {
        "id": "-Bbp4RkvjOwD"
      },
      "source": [
        "###  Google Drive Mount "
      ]
    },
    {
      "cell_type": "markdown",
      "metadata": {
        "id": "imv-Mwjxt6T_"
      },
      "source": [
        "![image.png](data:image/png;base64,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)"
      ]
    },
    {
      "cell_type": "code",
      "metadata": {
        "id": "3bB65k_VUBpB",
        "colab": {
          "base_uri": "https://localhost:8080/"
        },
        "outputId": "fdfd9d40-6f26-4ae6-e4f8-d7b8285fe40a"
      },
      "source": [
        "# mount google drive\n",
        "from google.colab import drive\n",
        "drive.mount('/content/gdrive')"
      ],
      "execution_count": null,
      "outputs": [
        {
          "output_type": "stream",
          "name": "stdout",
          "text": [
            "Mounted at /content/gdrive\n"
          ]
        }
      ]
    },
    {
      "cell_type": "markdown",
      "metadata": {
        "id": "0OO8AwqKjbDp"
      },
      "source": [
        "### Unzip dataset"
      ]
    },
    {
      "cell_type": "code",
      "metadata": {
        "id": "Y0jBanPeKWka"
      },
      "source": [
        "# unzip train, test dataset\n",
        "\n",
        "# !unzip /content/gdrive/MyDrive/Project_dataset/Font_npy_90_test.zip -d /content/gdrive/MyDrive/Project_dataset/\n",
        "# !unzip /content/gdrive/MyDrive/Project_dataset/Font_npy_90_train.zip -d /content/gdrive/MyDrive/Project_dataset/\n",
        "# !unzip /content/gdrive/MyDrive/Project_dataset/Font_npy_90_val.zip -d /content/gdrive/MyDrive/Project_dataset/\n",
        "\n",
        "# target 을 정하지 않으면 google drive 내의 content 드라이브에 위치시킴\n",
        "!unzip /content/gdrive/MyDrive/Project_dataset/Font_npy_90_train.zip\n",
        "!unzip /content/gdrive/MyDrive/Project_dataset/Font_npy_90_val.zip\n",
        "!unzip /content/gdrive/MyDrive/Project_dataset/Font_npy_90_test.zip"
      ],
      "execution_count": null,
      "outputs": []
    },
    {
      "cell_type": "markdown",
      "metadata": {
        "id": "QOJTByoijtHF"
      },
      "source": [
        "### Custom dataset & dataloader"
      ]
    },
    {
      "cell_type": "markdown",
      "metadata": {
        "id": "xlH-hIVmF_7z"
      },
      "source": [
        "![image.png](data:image/png;base64,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)"
      ]
    },
    {
      "cell_type": "code",
      "metadata": {
        "id": "qUeJiEDvTY-r",
        "colab": {
          "base_uri": "https://localhost:8080/"
        },
        "outputId": "b47704aa-faa3-412b-b4ae-eca4ddb87c8c"
      },
      "source": [
        "# load dataset\n",
        "import glob\n",
        "class MyDataset(Dataset):\n",
        "    def __init__(self, npy_dir): # image file (*.npy) 들을 포함하고 있는 디렉토리 경로 npy_dir 로 받아야, \n",
        "        self.dir_path = npy_dir\n",
        "        self.to_tensor = transforms.ToTensor()\n",
        "\n",
        "        # all npy path\n",
        "        self.npy_path = glob.glob(os.path.join(npy_dir, '*','*.npy')) \n",
        "\n",
        "    def __getitem__(self, index):\n",
        "        # load data\n",
        "        single_data_path = self.npy_path[index]\n",
        "        data = np.load(single_data_path, allow_pickle=True)\n",
        "        \n",
        "        image = data[0]\n",
        "        image = self.to_tensor(image)\n",
        "        label = data[1]\n",
        "       \n",
        "        return (image, label)\n",
        "\n",
        "    def __len__(self):\n",
        "        return len(self.npy_path)\n",
        "\n",
        "\n",
        "\n",
        "# train_data = MyDataset(\"/content/gdrive/MyDrive/Project_dataset/Font_npy_90_train\")  # unzip 한 디렉토리 있는 path 그대로 넣어야, 디렉토리 옆 점 3개 누르면 '경로 복사' 있음 - 위의 사진 참조\n",
        "# valid_data = MyDataset(\"/content/gdrive/MyDrive/Project_dataset/Font_npy_90_val\")\n",
        "# test_data = MyDataset(\"/content/gdrive/MyDrive/Project_dataset/Font_npy_90_test\")\n",
        "train_data = MyDataset(\"/content/Font_npy_90_train\")\n",
        "valid_data = MyDataset(\"/content/Font_npy_90_val\")\n",
        "test_data = MyDataset(\"/content/Font_npy_90_test\")\n",
        "\n",
        "print(len(train_data))\n",
        "print(len(valid_data))\n",
        "print(len(test_data))"
      ],
      "execution_count": null,
      "outputs": [
        {
          "output_type": "stream",
          "name": "stdout",
          "text": [
            "37232\n",
            "7800\n",
            "7800\n"
          ]
        }
      ]
    },
    {
      "cell_type": "code",
      "metadata": {
        "id": "GtRmxsFlTZ-X",
        "colab": {
          "base_uri": "https://localhost:8080/"
        },
        "outputId": "ff1ec69e-fdba-4f30-bfbe-1d3f5f83469e"
      },
      "source": [
        "# define dataloader\n",
        "batch_size = 50\n",
        "train_loader = torch.utils.data.DataLoader(dataset=train_data,\n",
        "                                           batch_size=batch_size,\n",
        "                                           shuffle=True)\n",
        "\n",
        "valid_loader = torch.utils.data.DataLoader(dataset=valid_data,\n",
        "                                           batch_size=batch_size,\n",
        "                                           shuffle=True)\n",
        "\n",
        "test_loader = torch.utils.data.DataLoader(dataset=test_data,\n",
        "                                           batch_size=batch_size,\n",
        "                                           shuffle=False)\n",
        "\n",
        "\n",
        "\n",
        "# check dataloader\n",
        "image,label = next(iter(valid_loader))\n",
        "print(image.shape)\n",
        "print(label.shape)"
      ],
      "execution_count": null,
      "outputs": [
        {
          "output_type": "stream",
          "name": "stdout",
          "text": [
            "torch.Size([50, 1, 90, 90])\n",
            "torch.Size([50])\n"
          ]
        }
      ]
    },
    {
      "cell_type": "code",
      "metadata": {
        "colab": {
          "base_uri": "https://localhost:8080/",
          "height": 123
        },
        "id": "Vgkv5vbrTbzH",
        "outputId": "5c4cac76-ab84-48b2-9d64-bcbe16ef1ab5"
      },
      "source": [
        "# visualize data\n",
        "# character - encoded_label dict , 데이터 확인해보고 싶을 때 참조\n",
        "label_dict = {'0': 0, '1': 1, '2': 2, '3': 3, '4': 4, '5': 5, '6': 6, '7': 7, '8': 8, '9': 9, \n",
        "'A': 10, 'B': 11, 'C': 12, 'D': 13, 'E': 14, 'F': 15, 'G': 16, 'H': 17,\n",
        "'I': 18, 'J': 19, 'K': 20, 'L': 21, 'M': 22, 'N': 23, 'P': 24, 'Q': 25, \n",
        "'R': 26, 'S': 27, 'T': 28, 'U': 29, 'V': 30, 'W': 31, 'X': 32, 'Y': 33, \n",
        "'Z': 34, 'a': 35, 'b': 36, 'd': 37, 'e': 38, 'f': 39, 'g': 40, 'h': 41, \n",
        "'i': 42, 'j': 43, 'm': 44, 'n': 45, 'o': 46, 'q': 47, 'r': 48, 't': 49, 'u': 50, 'y': 51}\n",
        "\n",
        "# image_show function : num 수 만큼 dataset 내의 data를 보여주는 함수\n",
        "def image_show(dataset, num):\n",
        "  fig = plt.figure(figsize=(10,10))\n",
        "\n",
        "  for i in range(num):\n",
        "    plt.subplot(1, num, i+1)\n",
        "    plt.imshow(dataset[i+1200][0].squeeze(), cmap = \"gray\")\n",
        "    plt.title(dataset[i+1200][1])\n",
        "\n",
        "image_show(train_data, 8)"
      ],
      "execution_count": null,
      "outputs": [
        {
          "output_type": "display_data",
          "data": {
            "image/png": "[encoded data removed]",
            "text/plain": [
              "<Figure size 720x720 with 8 Axes>"
            ]
          },
          "metadata": {
            "needs_background": "light"
          }
        }
      ]
    },
    {
      "cell_type": "markdown",
      "metadata": {
        "id": "rILeeNKTj-29"
      },
      "source": [
        "### Check GPU Configuration"
      ]
    },
    {
      "cell_type": "code",
      "metadata": {
        "colab": {
          "base_uri": "https://localhost:8080/"
        },
        "id": "nnNB9hj9PchN",
        "outputId": "362730bc-3393-4be1-dd43-f631a92073a7"
      },
      "source": [
        "# device configuration\n",
        "device = torch.device('cuda' if torch.cuda.is_available() else 'cpu')\n",
        "!nvidia-smi"
      ],
      "execution_count": null,
      "outputs": [
        {
          "output_type": "stream",
          "name": "stdout",
          "text": [
            "NVIDIA-SMI has failed because it couldn't communicate with the NVIDIA driver. Make sure that the latest NVIDIA driver is installed and running.\n",
            "\n"
          ]
        }
      ]
    },
    {
      "cell_type": "markdown",
      "metadata": {
        "id": "G2nx3PPjujWj"
      },
      "source": [
        "### Fix seed"
      ]
    },
    {
      "cell_type": "code",
      "metadata": {
        "id": "6a12HKrkkjYk"
      },
      "source": [
        "# FIX SEED\n",
        "SEED = 1234\n",
        "random.seed(SEED)\n",
        "torch.manual_seed(SEED)\n",
        "torch.cuda.manual_seed(SEED)"
      ],
      "execution_count": null,
      "outputs": []
    },
    {
      "cell_type": "code",
      "metadata": {
        "id": "BNZ_B7Iz3KjJ"
      },
      "source": [
        ""
      ],
      "execution_count": null,
      "outputs": []
    }
  ]
}